{
 "cells": [
  {
   "cell_type": "code",
   "execution_count": 1,
   "id": "82dce9be-655c-42a8-bc3f-f45d9850247e",
   "metadata": {},
   "outputs": [],
   "source": [
    "from matplotlib import pyplot as plt\n",
    "from matplotlib.patches import Rectangle\n",
    "from sklearn.model_selection import train_test_split\n",
    "from tensorflow.keras.callbacks import EarlyStopping\n",
    "from tensorflow.keras.layers import BatchNormalization\n",
    "from tensorflow.keras.layers import Conv2D\n",
    "from tensorflow.keras.layers import MaxPooling2D\n",
    "from tensorflow.keras.layers import Flatten\n",
    "from tensorflow.keras.layers import Dense\n",
    "from tensorflow.keras.models import Sequential\n",
    "from tensorflow_addons.losses import GIoULoss\n",
    "from tensorflow_addons.losses import giou_loss\n",
    "import json\n",
    "import numpy as np\n",
    "import tensorflow as tf\n",
    "\n",
    "from tf_common import plot_history"
   ]
  },
  {
   "cell_type": "code",
   "execution_count": 2,
   "id": "1208c9d0-7cb3-4f23-a674-4cd64abdabc4",
   "metadata": {},
   "outputs": [
    {
     "data": {
      "text/plain": [
       "[PhysicalDevice(name='/physical_device:GPU:0', device_type='GPU')]"
      ]
     },
     "execution_count": 2,
     "metadata": {},
     "output_type": "execute_result"
    }
   ],
   "source": [
    "tf.config.list_physical_devices('GPU')"
   ]
  },
  {
   "cell_type": "code",
   "execution_count": 3,
   "id": "bb867775-d567-42eb-9ea0-e35d3dd233fc",
   "metadata": {},
   "outputs": [],
   "source": [
    "MODE = 'HARD_CORE'"
   ]
  },
  {
   "cell_type": "code",
   "execution_count": 4,
   "id": "28755abb-79cb-4715-97eb-6033d9f32261",
   "metadata": {},
   "outputs": [],
   "source": [
    "def gen_rect(img_size, sqr_size, pad):\n",
    "    \"\"\" Create a dummy rectangle image. \"\"\"\n",
    "    # Generate a point in the upper left region.\n",
    "    x, y = np.random.randint(0, img_size // 2, 2)\n",
    "\n",
    "    # Generate a random width and height.\n",
    "    w, h = np.random.randint(sqr_size // 2, sqr_size , 2)\n",
    "\n",
    "    if y + h > img_size:\n",
    "        h = img_size - y - 1\n",
    "\n",
    "    if x + w > img_size:\n",
    "        w = img_size - x - 1\n",
    "\n",
    "    if MODE == 'HARD_CORE':\n",
    "        img = np.random.randint(0, 100, size=(img_size, img_size))\n",
    "        img[y:y + h, x:x + w] = np.random.randint(100, 255, size=(h, w))\n",
    "    else:\n",
    "        img = np.zeros((img_size, img_size))\n",
    "        img[y:y + h, x:x + w] = 1\n",
    "\n",
    "    # Notice the *pad* for allowing a broader bounding box.\n",
    "    # For GIoULoss: [y_min, x_min, y_max, x_max]\n",
    "    bbox = [\n",
    "        max(y - pad, 0),\n",
    "        max(x - pad, 0), \n",
    "        y + h + pad,\n",
    "        x + w + pad\n",
    "        ]\n",
    "    return img, bbox"
   ]
  },
  {
   "cell_type": "code",
   "execution_count": 5,
   "id": "1371ed8f-0c3a-4188-a4c6-3737e6c0e5e8",
   "metadata": {},
   "outputs": [],
   "source": [
    "def create_data(num_imgs, img_size, pad=0, sqr_size=None):\n",
    "    \"\"\" Create database of images and labels. \"\"\"\n",
    "    bbox = np.empty((num_imgs, 4), dtype=float)\n",
    "    imgs = np.empty((num_imgs, img_size, img_size), dtype=float)\n",
    "\n",
    "    if sqr_size is None:\n",
    "        # Use 2/3 of width by default.\n",
    "        sqr_size =  2 * img_size // 3\n",
    "\n",
    "    for i_img in range(num_imgs):\n",
    "        img, xywh = gen_rect(img_size, sqr_size, pad)\n",
    "        imgs[i_img, :] = img\n",
    "        bbox[i_img, :] = xywh\n",
    "\n",
    "    return imgs, bbox"
   ]
  },
  {
   "cell_type": "code",
   "execution_count": 6,
   "id": "892d4275-7caa-44da-8380-e15b85212cd6",
   "metadata": {},
   "outputs": [],
   "source": [
    "def overlap(bbox1, bbox2):\n",
    "    \"\"\" Calculate negative overlap between two bounding boxes. \"\"\"\n",
    "    return 1 - giou_loss(bbox1, bbox2, mode='iou')"
   ]
  },
  {
   "cell_type": "code",
   "execution_count": 7,
   "id": "e0868b8b-002f-4bd8-a7a8-6aaf0dad5e79",
   "metadata": {},
   "outputs": [],
   "source": [
    "def view_image(img, preds, actual=None, saveas=None):\n",
    "    \"\"\" Display the image of a rectangle and bounding box. \"\"\"\n",
    "    y, x, y_m, x_m = preds\n",
    "    w = x_m - x\n",
    "    h = y_m - y\n",
    "\n",
    "    plt.close('all')\n",
    "    rect = Rectangle((x, y), w, h, ec='r', fc='none')\n",
    "    plt.imshow(img, cmap='Greys', interpolation='none', \n",
    "               origin='lower', extent=[0, img.shape[0], 0, img.shape[1]])\n",
    "    plt.gca().add_patch(rect)\n",
    "\n",
    "    if actual is not None:\n",
    "        iou = overlap(preds, actual)\n",
    "        plt.title(F'IOU: {iou:.2f}', color='r')\n",
    "\n",
    "    if saveas is None:\n",
    "        saveas = 'plot_prediction.png'\n",
    "\n",
    "    plt.savefig(saveas, dpi=200)"
   ]
  },
  {
   "cell_type": "code",
   "execution_count": 8,
   "id": "378268d5-54ee-4da1-b2d2-0769cca82e67",
   "metadata": {},
   "outputs": [],
   "source": [
    "def get_model(imp_shape):\n",
    "    \"\"\" Generate model for single channel input. \"\"\"\n",
    "    opts = dict(\n",
    "        strides=(1, 1),\n",
    "        padding='same', \n",
    "        activation='relu'\n",
    "    )\n",
    "\n",
    "    layers = [\n",
    "        # (1) convolution layer.\n",
    "        Conv2D(4, 3, input_shape=imp_shape),\n",
    "        MaxPooling2D(pool_size=(2, 2), padding='same'),\n",
    "\n",
    "        # (2) convolution layer.\n",
    "        BatchNormalization(axis=-1),\n",
    "        Conv2D(8, 3, **opts),\n",
    "        MaxPooling2D(pool_size=(2, 2), padding='same'),\n",
    "\n",
    "        # (2) convolution layer.\n",
    "        BatchNormalization(axis=-1),\n",
    "        Conv2D(16, 3, **opts),\n",
    "        MaxPooling2D(pool_size=(2, 2), padding='same'),\n",
    "\n",
    "        # (2) convolution layer.\n",
    "        BatchNormalization(axis=-1),\n",
    "        Conv2D(32, 3, **opts),\n",
    "        MaxPooling2D(pool_size=(2, 2), padding='same'),\n",
    "\n",
    "        # (2) convolution layer.\n",
    "        BatchNormalization(axis=-1),\n",
    "        Conv2D(64, 3, **opts),\n",
    "        MaxPooling2D(pool_size=(2, 2), padding='same'),\n",
    "    \n",
    "        # (2) convolution layer.\n",
    "        BatchNormalization(axis=-1),\n",
    "        Conv2D(128, 3, **opts),\n",
    "        MaxPooling2D(pool_size=(2, 2), padding='same'),\n",
    "\n",
    "        # (2) convolution layer.\n",
    "        BatchNormalization(axis=-1),\n",
    "        Conv2D(256, 3, **opts),\n",
    "        MaxPooling2D(pool_size=(2, 2), padding='same'),\n",
    "\n",
    "        # (2) convolution layer.\n",
    "        BatchNormalization(axis=-1),\n",
    "        Conv2D(512, 3, **opts),\n",
    "        MaxPooling2D(pool_size=(2, 2), padding='same'),\n",
    "\n",
    "        # (3) flattening.\n",
    "        Flatten(),\n",
    "        BatchNormalization(axis=-1),\n",
    "        Dense(32, activation='relu'),\n",
    "        Dense(16, activation='relu'),\n",
    "        Dense(8, activation='relu'),\n",
    "        Dense(4)\n",
    "    ]\n",
    "    return Sequential(layers)"
   ]
  },
  {
   "cell_type": "code",
   "execution_count": 9,
   "id": "11df8ab4-b0d9-473b-a2b4-b49750c68b0e",
   "metadata": {},
   "outputs": [],
   "source": [
    "def get_model_and_data(num_imgs, img_size, pad, phi, rnd):\n",
    "    \"\"\" Generate and preprocess model data. \"\"\"\n",
    "    # Create random data.\n",
    "    X, y = create_data(num_imgs, img_size, pad=pad)\n",
    "    X = X.reshape((-1, img_size, img_size, 1))\n",
    "\n",
    "    # Perform global train test split.\n",
    "    split = train_test_split(X, y, train_size=phi, random_state=rnd)\n",
    "    train_X, tests_X, train_y, tests_y = split\n",
    "\n",
    "    # Compute mean of *train* alone.\n",
    "    mu = train_X.mean()\n",
    "    std = train_X.std()\n",
    "\n",
    "    # Transform input datasets.\n",
    "    train_X = (train_X - mu) / std\n",
    "    tests_X = (tests_X - mu) / std\n",
    "\n",
    "    # Keep first image from training.\n",
    "    # view_image(train_X[0], train_y[0], saveas='plot_sample.png')\n",
    "\n",
    "    # Create model with proper dimensions.\n",
    "    model = get_model((*train_X[0].shape,))\n",
    "\n",
    "    return model, (train_X, tests_X, train_y, tests_y)"
   ]
  },
  {
   "cell_type": "code",
   "execution_count": 10,
   "id": "128c2be7-86c2-44a6-9655-5ad0a9cc9685",
   "metadata": {},
   "outputs": [],
   "source": [
    "rnd = 42\n",
    "phi = 0.8\n",
    "vld = 0.2\n",
    "pad = 1\n",
    "num_imgs = 50_000\n",
    "img_size = 64 * 1"
   ]
  },
  {
   "cell_type": "code",
   "execution_count": 11,
   "id": "6a0617c2-8b8e-4bc3-90fd-7c4d100fff15",
   "metadata": {},
   "outputs": [
    {
     "name": "stdout",
     "output_type": "stream",
     "text": [
      "Model: \"sequential\"\n",
      "_________________________________________________________________\n",
      " Layer (type)                Output Shape              Param #   \n",
      "=================================================================\n",
      " conv2d (Conv2D)             (None, 62, 62, 4)         40        \n",
      "                                                                 \n",
      " max_pooling2d (MaxPooling2D  (None, 31, 31, 4)        0         \n",
      " )                                                               \n",
      "                                                                 \n",
      " batch_normalization (BatchN  (None, 31, 31, 4)        16        \n",
      " ormalization)                                                   \n",
      "                                                                 \n",
      " conv2d_1 (Conv2D)           (None, 31, 31, 8)         296       \n",
      "                                                                 \n",
      " max_pooling2d_1 (MaxPooling  (None, 16, 16, 8)        0         \n",
      " 2D)                                                             \n",
      "                                                                 \n",
      " batch_normalization_1 (Batc  (None, 16, 16, 8)        32        \n",
      " hNormalization)                                                 \n",
      "                                                                 \n",
      " conv2d_2 (Conv2D)           (None, 16, 16, 16)        1168      \n",
      "                                                                 \n",
      " max_pooling2d_2 (MaxPooling  (None, 8, 8, 16)         0         \n",
      " 2D)                                                             \n",
      "                                                                 \n",
      " batch_normalization_2 (Batc  (None, 8, 8, 16)         64        \n",
      " hNormalization)                                                 \n",
      "                                                                 \n",
      " conv2d_3 (Conv2D)           (None, 8, 8, 32)          4640      \n",
      "                                                                 \n",
      " max_pooling2d_3 (MaxPooling  (None, 4, 4, 32)         0         \n",
      " 2D)                                                             \n",
      "                                                                 \n",
      " batch_normalization_3 (Batc  (None, 4, 4, 32)         128       \n",
      " hNormalization)                                                 \n",
      "                                                                 \n",
      " conv2d_4 (Conv2D)           (None, 4, 4, 64)          18496     \n",
      "                                                                 \n",
      " max_pooling2d_4 (MaxPooling  (None, 2, 2, 64)         0         \n",
      " 2D)                                                             \n",
      "                                                                 \n",
      " batch_normalization_4 (Batc  (None, 2, 2, 64)         256       \n",
      " hNormalization)                                                 \n",
      "                                                                 \n",
      " conv2d_5 (Conv2D)           (None, 2, 2, 128)         73856     \n",
      "                                                                 \n",
      " max_pooling2d_5 (MaxPooling  (None, 1, 1, 128)        0         \n",
      " 2D)                                                             \n",
      "                                                                 \n",
      " batch_normalization_5 (Batc  (None, 1, 1, 128)        512       \n",
      " hNormalization)                                                 \n",
      "                                                                 \n",
      " conv2d_6 (Conv2D)           (None, 1, 1, 256)         295168    \n",
      "                                                                 \n",
      " max_pooling2d_6 (MaxPooling  (None, 1, 1, 256)        0         \n",
      " 2D)                                                             \n",
      "                                                                 \n",
      " batch_normalization_6 (Batc  (None, 1, 1, 256)        1024      \n",
      " hNormalization)                                                 \n",
      "                                                                 \n",
      " conv2d_7 (Conv2D)           (None, 1, 1, 512)         1180160   \n",
      "                                                                 \n",
      " max_pooling2d_7 (MaxPooling  (None, 1, 1, 512)        0         \n",
      " 2D)                                                             \n",
      "                                                                 \n",
      " flatten (Flatten)           (None, 512)               0         \n",
      "                                                                 \n",
      " batch_normalization_7 (Batc  (None, 512)              2048      \n",
      " hNormalization)                                                 \n",
      "                                                                 \n",
      " dense (Dense)               (None, 32)                16416     \n",
      "                                                                 \n",
      " dense_1 (Dense)             (None, 16)                528       \n",
      "                                                                 \n",
      " dense_2 (Dense)             (None, 8)                 136       \n",
      "                                                                 \n",
      " dense_3 (Dense)             (None, 4)                 36        \n",
      "                                                                 \n",
      "=================================================================\n",
      "Total params: 1,595,020\n",
      "Trainable params: 1,592,980\n",
      "Non-trainable params: 2,040\n",
      "_________________________________________________________________\n",
      "None\n"
     ]
    },
    {
     "data": {
      "image/png": "[encoded data removed]",
      "text/plain": [
       "<Figure size 432x288 with 1 Axes>"
      ]
     },
     "metadata": {
      "needs_background": "light"
     },
     "output_type": "display_data"
    }
   ],
   "source": [
    "model, (train_X, tests_X, train_y, tests_y) =\\\n",
    "    get_model_and_data(num_imgs, img_size, pad, phi, rnd)\n",
    "\n",
    "losses = [GIoULoss(mode='iou'), 'mse']\n",
    "weights = [1, 1]\n",
    "metric = 'mae'\n",
    "optim = 'SGD'\n",
    "optim = 'adam'\n",
    "\n",
    "# Compile model with loss and optimizer.\n",
    "model.compile(optimizer=optim, \n",
    "              loss=losses, \n",
    "              loss_weights=weights,\n",
    "              metrics=[metric])\n",
    "\n",
    "print(model.summary())"
   ]
  },
  {
   "cell_type": "code",
   "execution_count": 12,
   "id": "31ee04fb-0057-488b-ac14-53f02fceae6a",
   "metadata": {},
   "outputs": [
    {
     "name": "stderr",
     "output_type": "stream",
     "text": [
      "2022-01-08 17:49:31.203777: W tensorflow/core/framework/cpu_allocator_impl.cc:82] Allocation of 589824000 exceeds 10% of free system memory.\n",
      "2022-01-08 17:49:31.602250: W tensorflow/core/framework/cpu_allocator_impl.cc:82] Allocation of 589824000 exceeds 10% of free system memory.\n"
     ]
    },
    {
     "name": "stdout",
     "output_type": "stream",
     "text": [
      "Epoch 1/100\n"
     ]
    },
    {
     "name": "stderr",
     "output_type": "stream",
     "text": [
      "2022-01-08 17:49:34.299771: W tensorflow/stream_executor/gpu/asm_compiler.cc:111] *** WARNING *** You are using ptxas 10.1.243, which is older than 11.1. ptxas before 11.1 is known to miscompile XLA code, leading to incorrect results or invalid-address errors.\n",
      "\n",
      "You may not need to update to CUDA 11.1; cherry-picking the ptxas binary is often sufficient.\n"
     ]
    },
    {
     "name": "stdout",
     "output_type": "stream",
     "text": [
      "1125/1125 [==============================] - 17s 13ms/step - loss: 1.0000 - mae: 30.6573 - val_loss: 1.0000 - val_mae: 30.8334\n",
      "Epoch 2/100\n",
      "1125/1125 [==============================] - 14s 12ms/step - loss: 0.4113 - mae: 6.9382 - val_loss: 0.2127 - val_mae: 2.0139\n",
      "Epoch 3/100\n",
      "1125/1125 [==============================] - 14s 12ms/step - loss: 0.2015 - mae: 1.8798 - val_loss: 0.1196 - val_mae: 1.0499\n",
      "Epoch 4/100\n",
      "1125/1125 [==============================] - 14s 12ms/step - loss: 0.1656 - mae: 1.4997 - val_loss: 0.0979 - val_mae: 0.8438\n",
      "Epoch 5/100\n",
      "1125/1125 [==============================] - 16s 14ms/step - loss: 0.1417 - mae: 1.2560 - val_loss: 0.1227 - val_mae: 1.0898\n",
      "Epoch 6/100\n",
      "1125/1125 [==============================] - 15s 13ms/step - loss: 0.1264 - mae: 1.1066 - val_loss: 0.0905 - val_mae: 0.7699\n",
      "Epoch 7/100\n",
      "1125/1125 [==============================] - 14s 12ms/step - loss: 0.1172 - mae: 1.0200 - val_loss: 0.1077 - val_mae: 0.9472\n",
      "Epoch 8/100\n",
      "1125/1125 [==============================] - 13s 12ms/step - loss: 0.1106 - mae: 0.9592 - val_loss: 0.0640 - val_mae: 0.5376\n",
      "Epoch 9/100\n",
      "1125/1125 [==============================] - 13s 12ms/step - loss: 0.1042 - mae: 0.8993 - val_loss: 0.0691 - val_mae: 0.5744\n",
      "Epoch 10/100\n",
      "1125/1125 [==============================] - 13s 12ms/step - loss: 0.1006 - mae: 0.8660 - val_loss: 0.0751 - val_mae: 0.6305\n",
      "Epoch 11/100\n",
      "1125/1125 [==============================] - 13s 12ms/step - loss: 0.0971 - mae: 0.8340 - val_loss: 0.0650 - val_mae: 0.5455\n",
      "Epoch 12/100\n",
      "1125/1125 [==============================] - 14s 13ms/step - loss: 0.0950 - mae: 0.8145 - val_loss: 0.0623 - val_mae: 0.5172\n",
      "Epoch 13/100\n",
      "1125/1125 [==============================] - 14s 12ms/step - loss: 0.0920 - mae: 0.7875 - val_loss: 0.0700 - val_mae: 0.5910\n",
      "Epoch 14/100\n",
      "1125/1125 [==============================] - 14s 12ms/step - loss: 0.0888 - mae: 0.7586 - val_loss: 0.0699 - val_mae: 0.5841\n",
      "Epoch 15/100\n",
      "1125/1125 [==============================] - 14s 12ms/step - loss: 0.0887 - mae: 0.7575 - val_loss: 0.0572 - val_mae: 0.4755\n",
      "Epoch 16/100\n",
      "1125/1125 [==============================] - 14s 12ms/step - loss: 0.0883 - mae: 0.7544 - val_loss: 0.0694 - val_mae: 0.5893\n",
      "Epoch 17/100\n",
      "1125/1125 [==============================] - 14s 12ms/step - loss: 0.0855 - mae: 0.7294 - val_loss: 0.0582 - val_mae: 0.4845\n",
      "Epoch 18/100\n",
      "1125/1125 [==============================] - 14s 12ms/step - loss: 0.0836 - mae: 0.7109 - val_loss: 0.0610 - val_mae: 0.4962\n",
      "Epoch 19/100\n",
      "1125/1125 [==============================] - 14s 12ms/step - loss: 0.0832 - mae: 0.7078 - val_loss: 0.0730 - val_mae: 0.6094\n",
      "Epoch 20/100\n",
      "1125/1125 [==============================] - 14s 12ms/step - loss: 0.0825 - mae: 0.7018 - val_loss: 0.0592 - val_mae: 0.4884\n",
      "Epoch 21/100\n",
      "1125/1125 [==============================] - 14s 12ms/step - loss: 0.0799 - mae: 0.6794 - val_loss: 0.0750 - val_mae: 0.6254\n",
      "Epoch 22/100\n",
      "1125/1125 [==============================] - 14s 12ms/step - loss: 0.0784 - mae: 0.6657 - val_loss: 0.0728 - val_mae: 0.6011\n",
      "Epoch 23/100\n",
      "1125/1125 [==============================] - 14s 12ms/step - loss: 0.0773 - mae: 0.6560 - val_loss: 0.0574 - val_mae: 0.4775\n",
      "Epoch 24/100\n",
      "1125/1125 [==============================] - 14s 12ms/step - loss: 0.0775 - mae: 0.6576 - val_loss: 0.0589 - val_mae: 0.4791\n",
      "Epoch 25/100\n",
      "1125/1125 [==============================] - 14s 12ms/step - loss: 0.0762 - mae: 0.6450 - val_loss: 0.0728 - val_mae: 0.6064\n",
      "Epoch 26/100\n",
      "1125/1125 [==============================] - 14s 12ms/step - loss: 0.0748 - mae: 0.6328 - val_loss: 0.0542 - val_mae: 0.4420\n",
      "Epoch 27/100\n",
      "1125/1125 [==============================] - 14s 12ms/step - loss: 0.0733 - mae: 0.6201 - val_loss: 0.0651 - val_mae: 0.5488\n",
      "Epoch 28/100\n",
      "1125/1125 [==============================] - 14s 12ms/step - loss: 0.0717 - mae: 0.6052 - val_loss: 0.0684 - val_mae: 0.5846\n",
      "Epoch 29/100\n",
      "1125/1125 [==============================] - 14s 12ms/step - loss: 0.0710 - mae: 0.5991 - val_loss: 0.0535 - val_mae: 0.4380\n",
      "Epoch 30/100\n",
      "1125/1125 [==============================] - 14s 12ms/step - loss: 0.0706 - mae: 0.5959 - val_loss: 0.0556 - val_mae: 0.4623\n",
      "Epoch 31/100\n",
      "1125/1125 [==============================] - 14s 12ms/step - loss: 0.0690 - mae: 0.5810 - val_loss: 0.0523 - val_mae: 0.4313\n",
      "Epoch 32/100\n",
      "1125/1125 [==============================] - 14s 12ms/step - loss: 0.0686 - mae: 0.5775 - val_loss: 0.0555 - val_mae: 0.4662\n",
      "Epoch 33/100\n",
      "1125/1125 [==============================] - 14s 12ms/step - loss: 0.0675 - mae: 0.5684 - val_loss: 0.0708 - val_mae: 0.5833\n",
      "Epoch 34/100\n",
      "1125/1125 [==============================] - 14s 12ms/step - loss: 0.0667 - mae: 0.5612 - val_loss: 0.0655 - val_mae: 0.5525\n",
      "Epoch 35/100\n",
      "1125/1125 [==============================] - 14s 12ms/step - loss: 0.0666 - mae: 0.5597 - val_loss: 0.0591 - val_mae: 0.4889\n",
      "Epoch 36/100\n",
      "1125/1125 [==============================] - 14s 12ms/step - loss: 0.0651 - mae: 0.5474 - val_loss: 0.0607 - val_mae: 0.5110\n",
      "Epoch 37/100\n",
      "1125/1125 [==============================] - 14s 12ms/step - loss: 0.0639 - mae: 0.5360 - val_loss: 0.0600 - val_mae: 0.5084\n",
      "Epoch 38/100\n",
      "1125/1125 [==============================] - 14s 12ms/step - loss: 0.0644 - mae: 0.5410 - val_loss: 0.0605 - val_mae: 0.5028\n",
      "Epoch 39/100\n",
      "1125/1125 [==============================] - 14s 12ms/step - loss: 0.0629 - mae: 0.5266 - val_loss: 0.0811 - val_mae: 0.6948\n",
      "Epoch 40/100\n",
      "1125/1125 [==============================] - 14s 12ms/step - loss: 0.0629 - mae: 0.5275 - val_loss: 0.0405 - val_mae: 0.3371\n",
      "Epoch 41/100\n",
      "1125/1125 [==============================] - 14s 12ms/step - loss: 0.0610 - mae: 0.5113 - val_loss: 0.0514 - val_mae: 0.4242\n",
      "Epoch 42/100\n",
      "1125/1125 [==============================] - 14s 12ms/step - loss: 0.0605 - mae: 0.5068 - val_loss: 0.0451 - val_mae: 0.3677\n",
      "Epoch 43/100\n",
      "1125/1125 [==============================] - 14s 12ms/step - loss: 0.0609 - mae: 0.5100 - val_loss: 0.0577 - val_mae: 0.4737\n",
      "Epoch 44/100\n",
      "1125/1125 [==============================] - 14s 12ms/step - loss: 0.0593 - mae: 0.4960 - val_loss: 0.0526 - val_mae: 0.4291\n",
      "Epoch 45/100\n",
      "1125/1125 [==============================] - 14s 12ms/step - loss: 0.0583 - mae: 0.4874 - val_loss: 0.0492 - val_mae: 0.3987\n",
      "Epoch 46/100\n",
      "1125/1125 [==============================] - 14s 12ms/step - loss: 0.0585 - mae: 0.4889 - val_loss: 0.0587 - val_mae: 0.4895\n",
      "Epoch 47/100\n",
      "1125/1125 [==============================] - 14s 12ms/step - loss: 0.0567 - mae: 0.4740 - val_loss: 0.0535 - val_mae: 0.4371\n",
      "Epoch 48/100\n",
      "1125/1125 [==============================] - 14s 12ms/step - loss: 0.0568 - mae: 0.4738 - val_loss: 0.0606 - val_mae: 0.5073\n",
      "Epoch 49/100\n",
      "1125/1125 [==============================] - 14s 12ms/step - loss: 0.0562 - mae: 0.4687 - val_loss: 0.0540 - val_mae: 0.4410\n",
      "Epoch 50/100\n",
      "1125/1125 [==============================] - 14s 12ms/step - loss: 0.0562 - mae: 0.4686 - val_loss: 0.0451 - val_mae: 0.3659\n",
      "Epoch 51/100\n",
      "1125/1125 [==============================] - 14s 12ms/step - loss: 0.0549 - mae: 0.4572 - val_loss: 0.0491 - val_mae: 0.4070\n",
      "Epoch 52/100\n",
      "1125/1125 [==============================] - 14s 13ms/step - loss: 0.0544 - mae: 0.4533 - val_loss: 0.0588 - val_mae: 0.4962\n",
      "Epoch 53/100\n",
      "1125/1125 [==============================] - 14s 13ms/step - loss: 0.0546 - mae: 0.4550 - val_loss: 0.0571 - val_mae: 0.4715\n",
      "Epoch 54/100\n",
      "1125/1125 [==============================] - 14s 13ms/step - loss: 0.0541 - mae: 0.4508 - val_loss: 0.0502 - val_mae: 0.4196\n",
      "Epoch 55/100\n",
      "1125/1125 [==============================] - 14s 13ms/step - loss: 0.0521 - mae: 0.4328 - val_loss: 0.0545 - val_mae: 0.4513\n",
      "Epoch 00055: early stopping\n"
     ]
    }
   ],
   "source": [
    "# Create a callback for early training end.\n",
    "early = EarlyStopping(monitor='val_loss', mode='min', verbose=1, patience=15)\n",
    "\n",
    "# Train model with a validation set.\n",
    "history = model.fit(train_X, train_y, epochs=100, batch_size=32,\n",
    "                    validation_split=0.1, callbacks=[early])"
   ]
  },
  {
   "cell_type": "code",
   "execution_count": 14,
   "id": "5319e123-800f-42ac-952e-c8f0c97b3a35",
   "metadata": {},
   "outputs": [
    {
     "name": "stdout",
     "output_type": "stream",
     "text": [
      "  9/313 [..............................] - ETA: 1s - loss: 0.0541 - mae: 0.4501"
     ]
    },
    {
     "name": "stderr",
     "output_type": "stream",
     "text": [
      "2022-01-08 18:02:27.489317: W tensorflow/core/framework/cpu_allocator_impl.cc:82] Allocation of 163840000 exceeds 10% of free system memory.\n"
     ]
    },
    {
     "name": "stdout",
     "output_type": "stream",
     "text": [
      "313/313 [==============================] - 2s 6ms/step - loss: 0.0544 - mae: 0.4504\n"
     ]
    },
    {
     "data": {
      "image/png": "[encoded data removed]",
      "text/plain": [
       "<Figure size 864x432 with 2 Axes>"
      ]
     },
     "metadata": {},
     "output_type": "display_data"
    }
   ],
   "source": [
    "# Evaluate over test set.\n",
    "results = model.evaluate(tests_X, tests_y, verbose=1)\n",
    "\n",
    "# View training history.\n",
    "plot_history(history.history, metric)"
   ]
  },
  {
   "cell_type": "code",
   "execution_count": 17,
   "id": "54e99979-9966-43a1-8c5e-a9d895260224",
   "metadata": {},
   "outputs": [
    {
     "data": {
      "image/png": "[encoded data removed]",
      "text/plain": [
       "<Figure size 432x288 with 1 Axes>"
      ]
     },
     "metadata": {},
     "output_type": "display_data"
    }
   ],
   "source": [
    "# Make predictions for visualization.\n",
    "preds = model.predict(tests_X)\n",
    "\n",
    "no_choices = 10\n",
    "for k in np.random.choice(range(len(tests_X)), no_choices):\n",
    "    saveas = F'plot_prediction_{k:04}.png'\n",
    "    view_image(tests_X[k], preds[k], tests_y[k], saveas=saveas)"
   ]
  },
  {
   "cell_type": "code",
   "execution_count": 16,
   "id": "e914c313-7a3f-4aca-92c6-942e3338e1c2",
   "metadata": {},
   "outputs": [],
   "source": [
    "# Save model for re-use.\n",
    "# model.save('model.h5')\n",
    "\n",
    "# with open('metrics.json', 'w') as fp:\n",
    "#     json.dump({'loss': results}, fp)"
   ]
  },
  {
   "cell_type": "code",
   "execution_count": 18,
   "id": "f0180e02-0c5e-4265-9e5b-9d6e12da61b3",
   "metadata": {},
   "outputs": [
    {
     "data": {
      "text/plain": [
       "[0.05436436086893082, 0.45036861300468445]"
      ]
     },
     "execution_count": 18,
     "metadata": {},
     "output_type": "execute_result"
    }
   ],
   "source": [
    "results"
   ]
  },
  {
   "cell_type": "code",
   "execution_count": null,
   "id": "82dcf52a-8dab-40e5-a0d0-b7766a510a6a",
   "metadata": {},
   "outputs": [],
   "source": []
  }
 ],
 "metadata": {
  "kernelspec": {
   "display_name": "Python 3 (ipykernel)",
   "language": "python",
   "name": "python3"
  },
  "language_info": {
   "codemirror_mode": {
    "name": "ipython",
    "version": 3
   },
   "file_extension": ".py",
   "mimetype": "text/x-python",
   "name": "python",
   "nbconvert_exporter": "python",
   "pygments_lexer": "ipython3",
   "version": "3.9.9"
  }
 },
 "nbformat": 4,
 "nbformat_minor": 5
}

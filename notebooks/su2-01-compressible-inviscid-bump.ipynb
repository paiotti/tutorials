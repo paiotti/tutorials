{
 "cells": [
  {
   "cell_type": "markdown",
   "id": "578ce44a-369c-41e5-a1f4-eee5050d5bb4",
   "metadata": {},
   "source": [
    "# Compressible problem: Inviscid Bump"
   ]
  },
  {
   "cell_type": "markdown",
   "id": "97b483fd-bf66-453b-834b-078b67871730",
   "metadata": {},
   "source": [
    "This notebook provides a Python approach to setup and run the standard tutorial case [Inviscid Bump](https://su2code.github.io/tutorials/Inviscid_Bump/)."
   ]
  },
  {
   "cell_type": "code",
   "execution_count": 1,
   "id": "30866b29-5c45-49a0-8bf2-c418277ceb05",
   "metadata": {},
   "outputs": [],
   "source": [
    "%load_ext autoreload\n",
    "%autoreload 2"
   ]
  },
  {
   "cell_type": "markdown",
   "id": "7bb311b3",
   "metadata": {},
   "source": [
    "# sudo apt install libgl1-mesa-glx xvfb\n",
    "# pip install --user pyvista ipyvtklink\n",
    "https://stackoverflow.com/questions/56401123"
   ]
  },
  {
   "cell_type": "code",
   "execution_count": 2,
   "id": "591e62f6-0333-483b-bc92-4a81f0cc16e2",
   "metadata": {},
   "outputs": [],
   "source": [
    "import pyvista as pv\n",
    "import su2utils.fields as su"
   ]
  },
  {
   "cell_type": "code",
   "execution_count": 3,
   "id": "45984182",
   "metadata": {},
   "outputs": [],
   "source": [
    "case_dir = \"cases/01-compressible-inviscid-bump\""
   ]
  },
  {
   "cell_type": "markdown",
   "id": "26b3966a-758d-4630-9dfb-5b4d5b528883",
   "metadata": {},
   "source": [
    "## Direct, adjoint, and linearized problem definition"
   ]
  },
  {
   "cell_type": "code",
   "execution_count": 4,
   "id": "b3cd6a13-c4a0-47f9-baa4-2a0cc12b72ea",
   "metadata": {},
   "outputs": [],
   "source": [
    "su.problem.SOLVER.value = \"EULER\"\n",
    "su.problem.MATH_PROBLEM.value = \"DIRECT\"\n",
    "su.problem.RESTART_SOL.value = \"NO\""
   ]
  },
  {
   "cell_type": "markdown",
   "id": "3ebdfffa",
   "metadata": {},
   "source": [
    "## Solver control"
   ]
  },
  {
   "cell_type": "code",
   "execution_count": 5,
   "id": "b6c93aeb",
   "metadata": {},
   "outputs": [],
   "source": [
    "su.solver_control.ITER.value = 999999\n",
    "su.solver_control.CONV_FIELD.value = \"RMS_DENSITY\"\n",
    "su.solver_control.CONV_RESIDUAL_MINVAL.value = -10\n",
    "su.solver_control.CONV_STARTITER.value = 10\n",
    "su.solver_control.CONV_CAUCHY_ELEMS.value = 100\n",
    "su.solver_control.CONV_CAUCHY_EPS.value = 1E-10"
   ]
  },
  {
   "cell_type": "markdown",
   "id": "855ce1fa-7e4e-4065-af2b-38b01fc3ce20",
   "metadata": {},
   "source": [
    "## Compressible free-stream definition"
   ]
  },
  {
   "cell_type": "code",
   "execution_count": 6,
   "id": "854920fb-ceb8-4780-8368-c77f305da302",
   "metadata": {},
   "outputs": [],
   "source": [
    "su.compressible.MACH_NUMBER.value = 0.5\n",
    "su.compressible.AOA.value = 0.0\n",
    "su.compressible.SIDESLIP_ANGLE.value = 0.0\n",
    "su.compressible.FREESTREAM_PRESSURE.value = 101300.0\n",
    "su.compressible.FREESTREAM_TEMPERATURE.value = 288.0"
   ]
  },
  {
   "cell_type": "markdown",
   "id": "5475fc4e-35c7-415e-9481-2327bb76ada3",
   "metadata": {},
   "source": [
    "## Reference value definition"
   ]
  },
  {
   "cell_type": "code",
   "execution_count": 7,
   "id": "d0c77cfb-0b38-4293-a975-617f42549914",
   "metadata": {},
   "outputs": [],
   "source": [
    "su.reference_value.REF_ORIGIN_MOMENT_X.value = 0.25\n",
    "su.reference_value.REF_ORIGIN_MOMENT_Y.value = 0.00\n",
    "su.reference_value.REF_ORIGIN_MOMENT_Z.value = 0.00\n",
    "su.reference_value.REF_LENGTH.value = 1.0\n",
    "su.reference_value.REF_AREA.value = 1.0"
   ]
  },
  {
   "cell_type": "markdown",
   "id": "15ccdda5-6d2e-4c99-8272-bcc4d9d7b97f",
   "metadata": {},
   "source": [
    "## Boundary condition definition"
   ]
  },
  {
   "cell_type": "code",
   "execution_count": 8,
   "id": "493199c1-c154-4e02-8c56-0e0c71620a78",
   "metadata": {},
   "outputs": [],
   "source": [
    "su.boundary_condition.MARKER_EULER.value = (\"upper_wall\", \"lower_wall\")\n",
    "su.boundary_condition.INLET_TYPE.value = \"TOTAL_CONDITIONS\"\n",
    "su.boundary_condition.MARKER_INLET.value = (\"inlet\", 288.6, 102010.0, 1.0, 0.0, 0.0)\n",
    "su.boundary_condition.MARKER_OUTLET.value = (\"outlet\", 101300.0)"
   ]
  },
  {
   "cell_type": "markdown",
   "id": "9b196c9c-e75e-4a44-940f-dac82e5ecdec",
   "metadata": {},
   "source": [
    "## Surfaces identification"
   ]
  },
  {
   "cell_type": "code",
   "execution_count": 9,
   "id": "a9c6e5b1-475a-4d4f-99a8-f4638cc416a7",
   "metadata": {},
   "outputs": [],
   "source": [
    "su.surfaces.MARKER_PLOTTING.value = (\"lower_wall\")\n",
    "su.surfaces.MARKER_MONITORING.value = (\"upper_wall\", \"lower_wall\")"
   ]
  },
  {
   "cell_type": "markdown",
   "id": "cdf168ad",
   "metadata": {},
   "source": [
    "## Common parameters defining the numerical method"
   ]
  },
  {
   "cell_type": "code",
   "execution_count": 10,
   "id": "1c20b057",
   "metadata": {},
   "outputs": [],
   "source": [
    "su.common.NUM_METHOD_GRAD.value = \"GREEN_GAUSS\"\n",
    "su.common.CFL_NUMBER.value = 50.0\n",
    "su.common.CFL_ADAPT.value = \"YES\"\n",
    "su.common.CFL_ADAPT_PARAM.value = (0.1, 2.0, 50.0, 1e10)\n",
    "su.common.RK_ALPHA_COEFF.value = (0.66667, 0.66667, 1.000000)"
   ]
  },
  {
   "cell_type": "markdown",
   "id": "41201cae",
   "metadata": {},
   "source": [
    "## Slope limiter and dissipation sensor definition"
   ]
  },
  {
   "cell_type": "code",
   "execution_count": 11,
   "id": "891b1ae5",
   "metadata": {},
   "outputs": [],
   "source": [
    "su.limiter.JST_SENSOR_COEFF.value = (0.5, 0.02)"
   ]
  },
  {
   "cell_type": "markdown",
   "id": "1229eacf",
   "metadata": {},
   "source": [
    "## Linear solver definition"
   ]
  },
  {
   "cell_type": "code",
   "execution_count": 12,
   "id": "795e6709",
   "metadata": {},
   "outputs": [],
   "source": [
    "su.linear_solver.LINEAR_SOLVER.value = \"FGMRES\"\n",
    "su.linear_solver.LINEAR_SOLVER_PREC.value = \"ILU\"\n",
    "su.linear_solver.LINEAR_SOLVER_ERROR.value = 1.0E-10\n",
    "su.linear_solver.LINEAR_SOLVER_ITER.value = 20"
   ]
  },
  {
   "cell_type": "markdown",
   "id": "a0f0fad4",
   "metadata": {},
   "source": [
    "## Multigrid parameters"
   ]
  },
  {
   "cell_type": "code",
   "execution_count": 13,
   "id": "6b571ae0",
   "metadata": {},
   "outputs": [],
   "source": [
    "su.multigrid.MGLEVEL.value = 3\n",
    "su.multigrid.MGCYCLE.value = \"W_CYCLE\"\n",
    "su.multigrid.MG_PRE_SMOOTH.value = (1, 2, 3, 3)\n",
    "su.multigrid.MG_POST_SMOOTH.value = (0, 0, 0, 0)\n",
    "su.multigrid.MG_CORRECTION_SMOOTH.value = (0, 0, 0, 0)\n",
    "su.multigrid.MG_DAMP_RESTRICTION.value = 1.0\n",
    "su.multigrid.MG_DAMP_PROLONGATION.value = 1.0"
   ]
  },
  {
   "cell_type": "markdown",
   "id": "4b2975ba",
   "metadata": {},
   "source": [
    "## Flow numerical method definition"
   ]
  },
  {
   "cell_type": "code",
   "execution_count": 14,
   "id": "09d42041",
   "metadata": {},
   "outputs": [],
   "source": [
    "su.flow_numerical.CONV_NUM_METHOD_FLOW.value = \"JST\"\n",
    "su.flow_numerical.TIME_DISCRE_FLOW.value = \"EULER_IMPLICIT\""
   ]
  },
  {
   "cell_type": "markdown",
   "id": "292b71f6",
   "metadata": {},
   "source": [
    "## Screen/history volume output"
   ]
  },
  {
   "cell_type": "code",
   "execution_count": 15,
   "id": "56965315",
   "metadata": {},
   "outputs": [],
   "source": [
    "su.SCREEN_OUTPUT.value = (\"INNER_ITER\", \"WALL_TIME\", \"RMS_DENSITY\", \"RMS_ENERGY\", \"LIFT\", \"DRAG\")"
   ]
  },
  {
   "cell_type": "markdown",
   "id": "334e9065",
   "metadata": {},
   "source": [
    "## Input/output file information"
   ]
  },
  {
   "cell_type": "code",
   "execution_count": 16,
   "id": "b4b8c97c-ea5e-440d-8531-d9bd3598284f",
   "metadata": {},
   "outputs": [],
   "source": [
    "su.file_io.MESH_FILENAME.value = \"meshes/mesh_channel_256x128.su2\"\n",
    "su.file_io.MESH_FORMAT.value = \"SU2\"\n",
    "su.file_io.MESH_OUT_FILENAME.value = \"mesh_out.su2\"\n",
    "su.file_io.SOLUTION_FILENAME.value = \"solution_flow.dat\"\n",
    "su.file_io.SOLUTION_ADJ_FILENAME.value = \"solution_adj.dat\"\n",
    "su.file_io.TABULAR_FORMAT.value = \"CSV\"\n",
    "su.file_io.OUTPUT_FILES.value = (\"RESTART_ASCII\", \"PARAVIEW\", \"SURFACE_PARAVIEW\")\n",
    "su.file_io.CONV_FILENAME.value = \"history\"\n",
    "su.file_io.RESTART_FILENAME.value = \"restart_flow.dat\"\n",
    "su.file_io.RESTART_ADJ_FILENAME.value = \"restart_adj.dat\"\n",
    "su.file_io.VOLUME_FILENAME.value = \"flow\"\n",
    "su.file_io.VOLUME_ADJ_FILENAME.value = \"adjoint\"\n",
    "su.file_io.GRAD_OBJFUNC_FILENAME.value = \"of_grad.dat\"\n",
    "su.file_io.SURFACE_FILENAME.value = \"surface_flow\"\n",
    "su.file_io.SURFACE_ADJ_FILENAME.value = \"surface_adjoint\""
   ]
  },
  {
   "cell_type": "code",
   "execution_count": 17,
   "id": "78ad1bd2",
   "metadata": {},
   "outputs": [],
   "source": [
    "su.SU2ConfigField.case.dump_case(case_dir)\n"
   ]
  },
  {
   "cell_type": "code",
   "execution_count": 18,
   "id": "de00db73",
   "metadata": {},
   "outputs": [],
   "source": [
    "# su.SU2ConfigField.case.run_command(case_dir, \"mpirun -n 4 SU2_CFD config.cfg\")"
   ]
  },
  {
   "cell_type": "code",
   "execution_count": 19,
   "id": "1931bf22",
   "metadata": {},
   "outputs": [
    {
     "name": "stdout",
     "output_type": "stream",
     "text": [
      "% Screen output fields (use 'SU2_CFD -d <config_file>' to view list of available fields).\n",
      "SCREEN_OUTPUT= (INNER_ITER, WALL_TIME, RMS_DENSITY, RMS_ENERGY, LIFT, DRAG)\n",
      "\n"
     ]
    }
   ],
   "source": [
    "su.get_module_docs(su)"
   ]
  },
  {
   "cell_type": "markdown",
   "id": "4bbb7a7b",
   "metadata": {},
   "source": [
    "## Post-processing"
   ]
  },
  {
   "cell_type": "code",
   "execution_count": 38,
   "id": "d43e2c59",
   "metadata": {},
   "outputs": [
    {
     "data": {
      "text/plain": [
       "'cases/01-compressible-inviscid-bump/flow.vtu'"
      ]
     },
     "execution_count": 38,
     "metadata": {},
     "output_type": "execute_result"
    }
   ],
   "source": [
    "file_name = f\"{case_dir}/flow.vtu\"\n",
    "file_name\n"
   ]
  },
  {
   "cell_type": "code",
   "execution_count": 49,
   "id": "6d6ff01e",
   "metadata": {},
   "outputs": [
    {
     "name": "stdout",
     "output_type": "stream",
     "text": [
      "<DataArray type=\"Float32\" Name=\"\" NumberOfComponents= \"3\" offset=\"0\" format=\"appended\"/>\n",
      "<DataArray type=\"Float32\" Name=\"Density\" NumberOfComponents= \"1\" offset=\"1073333\" format=\"appended\"/>\n",
      "<DataArray type=\"Float32\" Name=\"Momentum\" NumberOfComponents= \"3\" offset=\"1204413\" format=\"appended\"/>\n",
      "<DataArray type=\"Float32\" Name=\"Energy\" NumberOfComponents= \"1\" offset=\"1597637\" format=\"appended\"/>\n",
      "<DataArray type=\"Float32\" Name=\"Pressure\" NumberOfComponents= \"1\" offset=\"1728717\" format=\"appended\"/>\n",
      "<DataArray type=\"Float32\" Name=\"Temperature\" NumberOfComponents= \"1\" offset=\"1859797\" format=\"appended\"/>\n",
      "<DataArray type=\"Float32\" Name=\"Mach\" NumberOfComponents= \"1\" offset=\"1990877\" format=\"appended\"/>\n",
      "<DataArray type=\"Float32\" Name=\"Pressure_Coefficient\" NumberOfComponents= \"1\" offset=\"2121957\" format=\"appended\"/>\n"
     ]
    }
   ],
   "source": [
    "!head -20 cases/01-compressible-inviscid-bump/flow.vtu \\\n",
    "| grep 'DataArray type=\"Float32\" Name='"
   ]
  },
  {
   "cell_type": "code",
   "execution_count": 22,
   "id": "76750639",
   "metadata": {},
   "outputs": [],
   "source": [
    "\n",
    "\n",
    "pv.start_xvfb()\n",
    "grid = pv.read(file_name)"
   ]
  },
  {
   "cell_type": "code",
   "execution_count": 35,
   "id": "edadd1a1",
   "metadata": {},
   "outputs": [
    {
     "data": {
      "application/vnd.jupyter.widget-view+json": {
       "model_id": "0a748e218b3c47cf8e7c2c319bebbba8",
       "version_major": 2,
       "version_minor": 0
      },
      "text/plain": [
       "ViewInteractiveWidget(height=768, layout=Layout(height='auto', width='100%'), width=1024)"
      ]
     },
     "metadata": {},
     "output_type": "display_data"
    }
   ],
   "source": [
    "plotter = pv.Plotter(shape='2|2', notebook=True)\n",
    "\n",
    "plotter.subplot(0)\n",
    "plotter.add_mesh(grid.copy(), scalars='Density', show_scalar_bar=False)\n",
    "plotter.add_mesh(grid.contour(),  scalars='Density', color=\"white\", line_width=5)\n",
    "\n",
    "plotter.subplot(1)\n",
    "plotter.add_mesh(grid.copy(), scalars='Momentum', show_scalar_bar=False)\n",
    "plotter.add_mesh(grid.contour(),  scalars='Momentum', color=\"white\", line_width=5)\n",
    "\n",
    "plotter.subplot(2)\n",
    "plotter.add_mesh(grid.copy(), scalars='Pressure', show_scalar_bar=False)\n",
    "plotter.add_mesh(grid.contour(),  scalars='Pressure', color=\"white\", line_width=5)\n",
    "\n",
    "plotter.subplot(3)\n",
    "plotter.add_mesh(grid.copy(), scalars='Mach', show_scalar_bar=False)\n",
    "plotter.add_mesh(grid.contour(),  scalars='Mach', color=\"white\", line_width=5)\n",
    "\n",
    "plotter.link_views()\n",
    "plotter.camera_position = ((1.5, 0, 4.5), (1.5, 0, 0), (0, 0, 0))\n",
    "\n",
    "plotter.show()"
   ]
  },
  {
   "cell_type": "code",
   "execution_count": null,
   "id": "9ae712d5",
   "metadata": {},
   "outputs": [],
   "source": []
  }
 ],
 "metadata": {
  "kernelspec": {
   "display_name": "Python 3 (ipykernel)",
   "language": "python",
   "name": "python3"
  },
  "language_info": {
   "codemirror_mode": {
    "name": "ipython",
    "version": 3
   },
   "file_extension": ".py",
   "mimetype": "text/x-python",
   "name": "python",
   "nbconvert_exporter": "python",
   "pygments_lexer": "ipython3",
   "version": "3.8.10"
  }
 },
 "nbformat": 4,
 "nbformat_minor": 5
}
